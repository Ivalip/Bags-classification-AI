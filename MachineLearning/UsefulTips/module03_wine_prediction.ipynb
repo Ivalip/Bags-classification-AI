{
 "cells": [
  {
   "cell_type": "code",
   "execution_count": 1,
   "metadata": {},
   "outputs": [],
   "source": [
    "import torch\n",
    "import random\n",
    "import numpy as np\n",
    "\n",
    "random.seed(0)\n",
    "np.random.seed(0)\n",
    "torch.manual_seed(0)\n",
    "torch.cuda.manual_seed(0)\n",
    "torch.backends.cudnn.deterministic = True"
   ]
  },
  {
   "cell_type": "code",
   "execution_count": 2,
   "metadata": {},
   "outputs": [
    {
     "data": {
      "text/plain": [
       "(178, 13)"
      ]
     },
     "execution_count": 2,
     "metadata": {},
     "output_type": "execute_result"
    }
   ],
   "source": [
    "import sklearn.datasets\n",
    "wine = sklearn.datasets.load_wine()\n",
    "wine.data.shape"
   ]
  },
  {
   "cell_type": "code",
   "execution_count": 3,
   "metadata": {},
   "outputs": [],
   "source": [
    "from sklearn.model_selection import train_test_split\n",
    "\n",
    "X_train, X_test, y_train, y_test = train_test_split(\n",
    "    wine.data[:, :2], \n",
    "    wine.target, \n",
    "    test_size=0.3, \n",
    "    shuffle=True)\n",
    "\n",
    "X_train = torch.FloatTensor(X_train)\n",
    "X_test = torch.FloatTensor(X_test)\n",
    "y_train = torch.LongTensor(y_train)\n",
    "y_test = torch.LongTensor(y_test)"
   ]
  },
  {
   "cell_type": "code",
   "execution_count": 4,
   "metadata": {},
   "outputs": [],
   "source": [
    "class WineNet(torch.nn.Module):\n",
    "    def __init__(self, n_hidden_neurons):\n",
    "        super(WineNet, self).__init__()\n",
    "        \n",
    "        self.fc1 = torch.nn.Linear(2, n_hidden_neurons)\n",
    "        self.activ1 = torch.nn.Sigmoid()\n",
    "        self.fc2 = torch.nn.Linear(n_hidden_neurons, n_hidden_neurons)\n",
    "        self.activ2 = torch.nn.Sigmoid()\n",
    "        self.fc3 = torch.nn.Linear(n_hidden_neurons, 3)\n",
    "        self.sm = torch.nn.Softmax(dim=1)\n",
    "        \n",
    "    def forward(self, x):\n",
    "        x = self.fc1(x)\n",
    "        x = self.activ1(x)\n",
    "        x = self.fc2(x)\n",
    "        x = self.activ2(x)\n",
    "        x = self.fc3(x)\n",
    "        return x\n",
    "\n",
    "    def inference(self, x):\n",
    "        x = self.forward(x)\n",
    "        x = self.sm(x)\n",
    "        return x\n",
    "    \n",
    "wine_net = WineNet(5)"
   ]
  },
  {
   "cell_type": "code",
   "execution_count": 5,
   "metadata": {},
   "outputs": [],
   "source": [
    "loss = torch.nn.CrossEntropyLoss()\n",
    "\n",
    "optimizer = torch.optim.Adam(wine_net.parameters(), \n",
    "                             lr=1.0e-3)"
   ]
  },
  {
   "cell_type": "code",
   "execution_count": 14,
   "metadata": {},
   "outputs": [
    {
     "data": {
      "text/plain": [
       "array([0, 3, 1, 4, 2], dtype=int32)"
      ]
     },
     "execution_count": 14,
     "metadata": {},
     "output_type": "execute_result"
    }
   ],
   "source": [
    "np.random.permutation(5)"
   ]
  },
  {
   "cell_type": "code",
   "execution_count": 6,
   "metadata": {
    "scrolled": false
   },
   "outputs": [
    {
     "name": "stdout",
     "output_type": "stream",
     "text": [
      "tensor(0.4074)\n",
      "tensor(0.4074)\n",
      "tensor(0.4815)\n",
      "tensor(0.5000)\n",
      "tensor(0.4259)\n",
      "tensor(0.4074)\n",
      "tensor(0.5185)\n",
      "tensor(0.5185)\n",
      "tensor(0.4444)\n",
      "tensor(0.4259)\n",
      "tensor(0.5000)\n",
      "tensor(0.5370)\n",
      "tensor(0.5370)\n",
      "tensor(0.5370)\n",
      "tensor(0.7407)\n",
      "tensor(0.6852)\n",
      "tensor(0.6481)\n",
      "tensor(0.6852)\n",
      "tensor(0.6667)\n",
      "tensor(0.6852)\n",
      "tensor(0.6852)\n",
      "tensor(0.6852)\n",
      "tensor(0.7222)\n",
      "tensor(0.7037)\n",
      "tensor(0.7407)\n",
      "tensor(0.7593)\n",
      "tensor(0.7778)\n",
      "tensor(0.7963)\n",
      "tensor(0.8148)\n",
      "tensor(0.8148)\n",
      "tensor(0.8148)\n",
      "tensor(0.8148)\n",
      "tensor(0.8333)\n",
      "tensor(0.8148)\n",
      "tensor(0.8333)\n",
      "tensor(0.8333)\n",
      "tensor(0.8333)\n",
      "tensor(0.8333)\n",
      "tensor(0.8519)\n",
      "tensor(0.8519)\n",
      "tensor(0.8519)\n",
      "tensor(0.8519)\n",
      "tensor(0.8519)\n",
      "tensor(0.8519)\n",
      "tensor(0.8519)\n",
      "tensor(0.8519)\n",
      "tensor(0.8519)\n",
      "tensor(0.8519)\n",
      "tensor(0.8519)\n",
      "tensor(0.8519)\n"
     ]
    }
   ],
   "source": [
    "batch_size = 10\n",
    "\n",
    "for epoch in range(5000):\n",
    "    order = np.random.permutation(len(X_train))\n",
    "    for start_index in range(0, len(X_train), batch_size):\n",
    "        optimizer.zero_grad()\n",
    "        \n",
    "        batch_indexes = order[start_index:start_index+batch_size]\n",
    "        \n",
    "        x_batch = X_train[batch_indexes]\n",
    "        y_batch = y_train[batch_indexes]\n",
    "        \n",
    "        preds = wine_net.forward(x_batch) \n",
    "        \n",
    "        loss_value = loss(preds, y_batch)\n",
    "        loss_value.backward()\n",
    "        \n",
    "        optimizer.step()\n",
    "        \n",
    "    if epoch % 100 == 0:\n",
    "        test_preds = wine_net.forward(X_test)\n",
    "        test_preds = test_preds.argmax(dim=1)\n",
    "        print((test_preds == y_test).float().mean())"
   ]
  },
  {
   "cell_type": "code",
   "execution_count": 7,
   "metadata": {},
   "outputs": [
    {
     "name": "stderr",
     "output_type": "stream",
     "text": [
      "C:\\Users\\NikoSolov\\AppData\\Roaming\\Python\\Python310\\site-packages\\torch\\functional.py:539: UserWarning: torch.meshgrid: in an upcoming release, it will be required to pass the indexing argument. (Triggered internally at C:\\actions-runner\\_work\\pytorch\\pytorch\\pytorch\\aten\\src\\ATen\\native\\TensorShape.cpp:3638.)\n",
      "  return _VF.meshgrid(tensors, **kwargs)  # type: ignore[attr-defined]\n",
      "D:\\NikoSolov\\AppData\\Local\\Temp\\ipykernel_16476\\2529696004.py:25: UserWarning: Creating a tensor from a list of numpy.ndarrays is extremely slow. Please consider converting the list to a single numpy.ndarray with numpy.array() before converting to a tensor. (Triggered internally at C:\\actions-runner\\_work\\pytorch\\pytorch\\pytorch\\torch\\csrc\\utils\\tensor_new.cpp:257.)\n",
      "  plt.scatter(X_train[indexes, 0],\n",
      "D:\\NikoSolov\\AppData\\Local\\Temp\\ipykernel_16476\\2529696004.py:25: UserWarning: No data for colormapping provided via 'c'. Parameters 'cmap' will be ignored\n",
      "  plt.scatter(X_train[indexes, 0],\n"
     ]
    },
    {
     "data": {
      "image/png": "[encoded data removed]",
      "text/plain": [
       "<Figure size 1000x800 with 1 Axes>"
      ]
     },
     "metadata": {},
     "output_type": "display_data"
    }
   ],
   "source": [
    "import matplotlib.pyplot as plt\n",
    "%matplotlib inline\n",
    "\n",
    "plt.rcParams['figure.figsize'] = (10, 8)\n",
    "\n",
    "n_classes = 3\n",
    "plot_colors = ['g', 'orange', 'black']\n",
    "plot_step = 0.02\n",
    "\n",
    "x_min, x_max = X_train[:, 0].min() - 1, X_train[:, 0].max() + 1\n",
    "y_min, y_max = X_train[:, 1].min() - 1, X_train[:, 1].max() + 1\n",
    "\n",
    "xx, yy =  torch.meshgrid(torch.arange(x_min, x_max, plot_step),\n",
    "                         torch.arange(y_min, y_max, plot_step))\n",
    "\n",
    "preds = wine_net.inference(\n",
    "    torch.cat([xx.reshape(-1, 1), yy.reshape(-1, 1)], dim=1))\n",
    "\n",
    "preds_class = preds.data.numpy().argmax(axis=1)\n",
    "preds_class = preds_class.reshape(xx.shape)\n",
    "plt.contourf(xx, yy, preds_class, cmap='Accent')\n",
    "\n",
    "for i, color in zip(range(n_classes), plot_colors):\n",
    "    indexes = np.where(y_train == i)\n",
    "    plt.scatter(X_train[indexes, 0], \n",
    "                X_train[indexes, 1], \n",
    "                c=color, \n",
    "                label=wine.target_names[i],\n",
    "                cmap='Accent')\n",
    "    plt.xlabel(wine.feature_names[0])\n",
    "    plt.ylabel(wine.feature_names[1])\n",
    "    plt.legend()"
   ]
  },
  {
   "cell_type": "code",
   "execution_count": 9,
   "metadata": {},
   "outputs": [
    {
     "name": "stdout",
     "output_type": "stream",
     "text": [
      "Model's state_dict:\n",
      "fc1.weight \t torch.Size([5, 2])\n",
      "fc1.bias \t torch.Size([5])\n",
      "fc2.weight \t torch.Size([5, 5])\n",
      "fc2.bias \t torch.Size([5])\n",
      "fc3.weight \t torch.Size([3, 5])\n",
      "fc3.bias \t torch.Size([3])\n",
      "Optimizer's state_dict:\n",
      "state \t {0: {'step': tensor(65000.), 'exp_avg': tensor([[-2.6426e-01, -1.0460e-02],\n",
      "        [ 3.7145e-01,  9.7246e-03],\n",
      "        [-6.5672e-03, -1.1228e-02],\n",
      "        [ 2.1750e-02,  4.8857e-05],\n",
      "        [-9.0461e-02, -1.0608e-02]]), 'exp_avg_sq': tensor([[2.0695e+01, 3.4058e-01],\n",
      "        [2.6352e+01, 5.2028e-01],\n",
      "        [6.8430e+00, 1.3732e-01],\n",
      "        [3.8054e-01, 3.2922e-02],\n",
      "        [1.0472e+00, 1.6811e-02]])}, 1: {'step': tensor(65000.), 'exp_avg': tensor([-0.0156,  0.0191, -0.0021, -0.0005, -0.0058]), 'exp_avg_sq': tensor([0.1180, 0.1513, 0.0394, 0.0022, 0.0060])}, 2: {'step': tensor(65000.), 'exp_avg': tensor([[ 8.0653e-03,  1.6719e-03,  3.6543e-04, -3.5959e-03,  3.4719e-03],\n",
      "        [ 2.1757e-03,  1.0304e-03, -6.7208e-04, -9.3473e-04,  4.3120e-04],\n",
      "        [-3.1348e-03,  8.1522e-04, -2.9055e-03, -7.8279e-04, -2.9973e-03],\n",
      "        [ 3.7334e-03,  8.4842e-04,  3.9561e-03, -1.5208e-04,  4.0601e-03],\n",
      "        [ 6.3936e-03,  1.6230e-03, -3.6706e-05, -2.9874e-03,  2.5258e-03]]), 'exp_avg_sq': tensor([[1.6145e-02, 5.6888e-03, 1.0471e-02, 1.2285e-03, 1.1325e-02],\n",
      "        [1.8245e-03, 7.3737e-04, 8.9494e-04, 4.7345e-05, 1.0635e-03],\n",
      "        [1.0663e-03, 1.0340e-04, 1.0612e-03, 3.4540e-05, 1.0588e-03],\n",
      "        [4.1819e-04, 7.8814e-05, 3.6328e-04, 1.1631e-06, 3.7052e-04],\n",
      "        [1.0821e-02, 3.8595e-03, 6.6812e-03, 6.9885e-04, 7.3487e-03]])}, 3: {'step': tensor(65000.), 'exp_avg': tensor([ 0.0127,  0.0039, -0.0024,  0.0040,  0.0103]), 'exp_avg_sq': tensor([0.0371, 0.0047, 0.0015, 0.0007, 0.0253])}, 4: {'step': tensor(65000.), 'exp_avg': tensor([[-0.0004, -0.0014, -0.0039, -0.0055, -0.0007],\n",
      "        [-0.0007,  0.0005,  0.0075,  0.0027, -0.0003],\n",
      "        [ 0.0010,  0.0009, -0.0037,  0.0028,  0.0010]]), 'exp_avg_sq': tensor([[0.0010, 0.0010, 0.0049, 0.0044, 0.0011],\n",
      "        [0.0019, 0.0018, 0.0062, 0.0058, 0.0021],\n",
      "        [0.0017, 0.0014, 0.0045, 0.0038, 0.0018]])}, 5: {'step': tensor(65000.), 'exp_avg': tensor([-0.0084,  0.0116, -0.0033]), 'exp_avg_sq': tensor([0.0092, 0.0116, 0.0124])}}\n",
      "param_groups \t [{'lr': 0.001, 'betas': (0.9, 0.999), 'eps': 1e-08, 'weight_decay': 0, 'amsgrad': False, 'maximize': False, 'foreach': None, 'capturable': False, 'differentiable': False, 'fused': None, 'params': [0, 1, 2, 3, 4, 5]}]\n"
     ]
    }
   ],
   "source": [
    "# Print model's state_dict\n",
    "print(\"Model's state_dict:\")\n",
    "for param_tensor in wine_net.state_dict():\n",
    "    print(param_tensor, \"\\t\", wine_net.state_dict()[param_tensor].size())\n",
    "\n",
    "# Print optimizer's state_dict\n",
    "print(\"Optimizer's state_dict:\")\n",
    "for var_name in optimizer.state_dict():\n",
    "    print(var_name, \"\\t\", optimizer.state_dict()[var_name])"
   ]
  },
  {
   "cell_type": "code",
   "execution_count": 13,
   "metadata": {},
   "outputs": [],
   "source": [
    "torch.jit.script(wine_net).save(\"wine_jit.pt\")"
   ]
  }
 ],
 "metadata": {
  "anaconda-cloud": {},
  "kernelspec": {
   "display_name": "Python 3",
   "language": "python",
   "name": "python3"
  },
  "language_info": {
   "codemirror_mode": {
    "name": "ipython",
    "version": 3
   },
   "file_extension": ".py",
   "mimetype": "text/x-python",
   "name": "python",
   "nbconvert_exporter": "python",
   "pygments_lexer": "ipython3",
   "version": "3.10.11"
  }
 },
 "nbformat": 4,
 "nbformat_minor": 2
}
