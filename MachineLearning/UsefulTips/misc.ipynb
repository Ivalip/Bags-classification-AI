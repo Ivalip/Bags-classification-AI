{
 "cells": [
  {
   "cell_type": "markdown",
   "id": "6d035591",
   "metadata": {},
   "source": [
    "# YOLO Model"
   ]
  },
  {
   "cell_type": "code",
   "execution_count": null,
   "id": "51b32941",
   "metadata": {},
   "outputs": [],
   "source": [
    "from ultralytics import YOLO\n",
    "\n",
    "# Load a COCO-pretrained YOLO11n model\n",
    "model = YOLO(\"yolo11n.pt\")\n",
    "\n",
    "# Train the model on the Open Images V7 dataset\n",
    "results = model.train(data=\"open-images-v7.yaml\", epochs=100, imgsz=640)"
   ]
  },
  {
   "cell_type": "markdown",
   "id": "3ebcb1d2",
   "metadata": {},
   "source": [
    "# Downloading COCO dataset"
   ]
  },
  {
   "cell_type": "code",
   "execution_count": null,
   "id": "16d8261e",
   "metadata": {},
   "outputs": [],
   "source": [
    "from pycocotools.coco import COCO\n",
    "import numpy as np\n",
    "import skimage.io as io\n",
    "import matplotlib.pyplot as plt\n",
    "# import pylab"
   ]
  },
  {
   "cell_type": "code",
   "execution_count": null,
   "id": "b2a0cead",
   "metadata": {},
   "outputs": [],
   "source": [
    "dataDir='dataset'\n",
    "dataType='val2017'\n",
    "annFile=f'{dataDir}\\\\annotations\\\\instances_{dataType}.json'"
   ]
  },
  {
   "cell_type": "code",
   "execution_count": null,
   "id": "6d4b6c74",
   "metadata": {},
   "outputs": [],
   "source": [
    "coco=COCO(annFile)"
   ]
  },
  {
   "cell_type": "markdown",
   "id": "c7130026",
   "metadata": {},
   "source": [
    "# Encoding and Decoding to base64"
   ]
  },
  {
   "cell_type": "code",
   "execution_count": null,
   "id": "7848af87",
   "metadata": {},
   "outputs": [],
   "source": [
    "import base64\n",
    "\n",
    "image = open('picture.jpg', 'rb')\n",
    "\n",
    "image_data = image.read()\n",
    "\n",
    "# image_64_encode = base64.b64encode(image_read)\n",
    "\n",
    "safe_encode = base64.urlsafe_b64encode(image_data)\n",
    "print(len(safe_encode))\n",
    "with open(\"picture_coded.txt\", \"w\") as f:\n",
    "    f.write(str(safe_encode))\n",
    "    f.close()\n",
    "\n",
    "image_64_decode = base64.urlsafe_b64decode(safe_encode) \n",
    "\n",
    "image_result = open('picture.jpg', 'wb') # create a writable image and write the decoding result\n",
    "\n",
    "image_result.write(image_64_decode)"
   ]
  }
 ],
 "metadata": {
  "language_info": {
   "name": "python"
  }
 },
 "nbformat": 4,
 "nbformat_minor": 5
}
