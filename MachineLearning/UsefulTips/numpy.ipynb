{
 "cells": [
  {
   "cell_type": "markdown",
   "id": "9d2f36a3",
   "metadata": {},
   "source": [
    "## np.stack"
   ]
  },
  {
   "cell_type": "code",
   "execution_count": 13,
   "id": "18af668b",
   "metadata": {},
   "outputs": [
    {
     "data": {
      "text/plain": [
       "array([[[ 1,  4,  7],\n",
       "        [ 2,  5,  8],\n",
       "        [ 3,  6,  9]],\n",
       "\n",
       "       [[11, 14, 17],\n",
       "        [12, 15, 18],\n",
       "        [13, 16, 19]]])"
      ]
     },
     "execution_count": 13,
     "metadata": {},
     "output_type": "execute_result"
    }
   ],
   "source": [
    "import numpy as np\n",
    "a = np.array([[1, 2, 3],[11, 12, 13]])\n",
    "b = np.array([[4, 5, 6],[14, 15, 16]])\n",
    "c = np.array([[7, 8, 9],[17, 18, 19]])\n",
    "np.stack((a, b, c), axis=2)"
   ]
  },
  {
   "cell_type": "markdown",
   "id": "b8158f99",
   "metadata": {},
   "source": [
    "## np.argmax - дает индекс наибольшего значения в массиве"
   ]
  }
 ],
 "metadata": {
  "kernelspec": {
   "display_name": "Python 3",
   "language": "python",
   "name": "python3"
  },
  "language_info": {
   "codemirror_mode": {
    "name": "ipython",
    "version": 3
   },
   "file_extension": ".py",
   "mimetype": "text/x-python",
   "name": "python",
   "nbconvert_exporter": "python",
   "pygments_lexer": "ipython3",
   "version": "3.10.12"
  }
 },
 "nbformat": 4,
 "nbformat_minor": 5
}
