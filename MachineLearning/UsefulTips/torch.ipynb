{
 "cells": [
  {
   "cell_type": "code",
   "execution_count": 2,
   "id": "671c2539",
   "metadata": {},
   "outputs": [],
   "source": [
    "import torch"
   ]
  },
  {
   "cell_type": "code",
   "execution_count": 3,
   "id": "b403cd39",
   "metadata": {},
   "outputs": [
    {
     "data": {
      "text/plain": [
       "tensor([[False, False, False, False],\n",
       "        [False, False, False, False],\n",
       "        [False, False,  True,  True],\n",
       "        [ True,  True,  True,  True],\n",
       "        [ True,  True,  True,  True]])"
      ]
     },
     "execution_count": 3,
     "metadata": {},
     "output_type": "execute_result"
    }
   ],
   "source": [
    "a = torch.ones([5,4])\n",
    "b = torch.Tensor([[1,2,3,4],\n",
    "                  [5,6,7,8],\n",
    "                  [9,10,11,12],\n",
    "                  [13,14,15,16],\n",
    "                  [17,18,19,20]])\n",
    "b>10"
   ]
  },
  {
   "cell_type": "code",
   "execution_count": 4,
   "id": "1bf66bd1",
   "metadata": {},
   "outputs": [
    {
     "data": {
      "text/plain": [
       "device(type='cuda', index=0)"
      ]
     },
     "execution_count": 4,
     "metadata": {},
     "output_type": "execute_result"
    }
   ],
   "source": [
    "device = torch.device(\n",
    "    'cuda:0' if torch.cuda.is_available() else 'cpu'\n",
    ")\n",
    "device"
   ]
  },
  {
   "cell_type": "code",
   "execution_count": null,
   "id": "77271202",
   "metadata": {},
   "outputs": [],
   "source": []
  },
  {
   "cell_type": "markdown",
   "id": "d41115e7",
   "metadata": {},
   "source": [
    "## Conv2d - Свертка\n",
    "\n",
    "Класс нейронной сети: `torch.nn.Conv2d`\n",
    "Функция: `torch.nn.functional.conv2d`"
   ]
  },
  {
   "cell_type": "code",
   "execution_count": 45,
   "id": "e368464f",
   "metadata": {},
   "outputs": [
    {
     "name": "stdout",
     "output_type": "stream",
     "text": [
      "tensor([[[-3., -2.,  3.,  4., -4.],\n",
      "         [ 3.,  2., -5.,  2., -1.],\n",
      "         [-4.,  3., -3., -2.,  0.],\n",
      "         [ 1., -5.,  4.,  4., -2.],\n",
      "         [-5., -2.,  0., -1.,  3.]]])\n",
      "tensor([[[[1., 1., 1.],\n",
      "          [1., 1., 1.],\n",
      "          [1., 1., 1.]]]])\n",
      "tensor([[[  0.,  -2.,   4.,  -1.,   1.],\n",
      "         [ -1.,  -6.,   2.,  -6.,  -1.],\n",
      "         [  0.,  -4.,   0.,  -3.,   1.],\n",
      "         [-12., -11.,  -2.,   3.,   2.],\n",
      "         [-11.,  -7.,   0.,   8.,   4.]]])\n"
     ]
    }
   ],
   "source": [
    "input = torch.randint(-5, 5, (1, 5, 5), dtype=torch.float32)\n",
    "filter = torch.Tensor([[\n",
    "    [[1,1,1],\n",
    "     [1,1,1],\n",
    "     [1,1,1]]\n",
    "]])\n",
    "print(input)\n",
    "print(filter)\n",
    "print(torch.nn.functional.conv2d(input, filter, padding=1))"
   ]
  },
  {
   "cell_type": "code",
   "execution_count": 69,
   "id": "f18a2b3b",
   "metadata": {},
   "outputs": [
    {
     "name": "stdout",
     "output_type": "stream",
     "text": [
      "tensor([[[ 1.,  3., -2., -2., -1.],\n",
      "         [ 2.,  0., -5.,  1.,  0.],\n",
      "         [-5.,  0.,  3.,  0.,  0.],\n",
      "         [-2., -3.,  4., -3.,  3.],\n",
      "         [ 3., -5., -1.,  2., -3.]]])\n",
      "tensor([[[ 0.3671,  0.4137,  0.4076,  0.2607, -0.2481],\n",
      "         [ 0.5437,  0.3850, -0.2144, -0.8811,  0.0215],\n",
      "         [ 0.7344,  0.7319, -0.0646, -0.2758,  0.2093],\n",
      "         [-0.6407,  0.2162,  0.4130,  1.1761,  0.0219],\n",
      "         [-0.4278, -0.7765,  0.5682, -0.8547,  0.3994]],\n",
      "\n",
      "        [[ 0.0397, -1.4016,  0.1273,  0.5925, -1.1801],\n",
      "         [ 0.2219,  2.6528, -0.5265, -3.1649, -0.6485],\n",
      "         [-1.2103, -0.1044, -0.1049, -1.3223,  1.0141],\n",
      "         [-2.2830, -3.0945,  1.7448,  0.9328, -1.3957],\n",
      "         [-0.7628, -0.6796, -1.8656,  0.3438, -0.3548]]],\n",
      "       grad_fn=<SqueezeBackward1>)\n",
      "Parameter containing:\n",
      "tensor([[[[ 0.0300,  0.1108, -0.1001],\n",
      "          [ 0.0883,  0.0412,  0.1468],\n",
      "          [-0.1344, -0.1093, -0.1320]]],\n",
      "\n",
      "\n",
      "        [[[ 0.2269,  0.1563,  0.1043],\n",
      "          [ 0.2377,  0.1140,  0.0407],\n",
      "          [-0.3146,  0.0398,  0.1990]]]], requires_grad=True)\n"
     ]
    }
   ],
   "source": [
    "m = torch.nn.Conv2d(in_channels=1, out_channels=2, kernel_size=3, padding=1)\n",
    "input = torch.randint(-5, 5, (1, 5, 5), dtype=torch.float32)\n",
    "print(input)\n",
    "output = m(input)\n",
    "print(output)\n",
    "print(m.weight)\n",
    "\n"
   ]
  },
  {
   "cell_type": "markdown",
   "id": "8818c545",
   "metadata": {},
   "source": [
    "## BatchNorm2D - Z-нормализация значений\n",
    "$$\n",
    "\\hat{X}_{ij}=\\dfrac{X_{ij}-M(X)}{\\sqrt{D(X)}}\n",
    "$$"
   ]
  },
  {
   "cell_type": "code",
   "execution_count": 66,
   "id": "a4bd28e1",
   "metadata": {},
   "outputs": [
    {
     "name": "stdout",
     "output_type": "stream",
     "text": [
      "tensor([[[[-0.2208,  1.3094, -0.8979,  0.7133,  0.9332],\n",
      "          [ 1.9611,  0.3690,  0.3885, -0.4287, -0.8214],\n",
      "          [-0.0661,  0.1791, -0.3184,  0.8698, -0.8706],\n",
      "          [-0.1126, -0.8478,  0.3033,  1.7663,  0.0358],\n",
      "          [ 1.8082,  0.9555, -0.6013, -0.7609, -1.1584]]]])\n",
      "tensor([[[[-4.4534e-01,  1.2570e+00, -1.1987e+00,  5.9389e-01,  8.3856e-01],\n",
      "          [ 1.9822e+00,  2.1077e-01,  2.3257e-01, -6.7665e-01, -1.1135e+00],\n",
      "          [-2.7327e-01, -4.0798e-04, -5.5391e-01,  7.6798e-01, -1.1683e+00],\n",
      "          [-3.2500e-01, -1.1429e+00,  1.3767e-01,  1.7654e+00, -1.5984e-01],\n",
      "          [ 1.8120e+00,  8.6333e-01, -8.6873e-01, -1.0462e+00, -1.4885e+00]]]])\n"
     ]
    }
   ],
   "source": [
    "# # With Learnable Parameters\n",
    "# m = nn.BatchNorm2d(100)\n",
    "# Without Learnable Parameters\n",
    "m = torch.nn.BatchNorm2d(1, affine=False)\n",
    "input = torch.randn(1, 1, 5, 5)\n",
    "output = m(input)\n",
    "print(input)\n",
    "print(output)"
   ]
  },
  {
   "cell_type": "markdown",
   "id": "7f46f251",
   "metadata": {},
   "source": [
    "## nn.ReLU() - Функция активации\n",
    "$$\n",
    "\\text{ReLU}(x)=(x)^{+}=\\max(0,x)\n",
    "$$"
   ]
  },
  {
   "cell_type": "code",
   "execution_count": 68,
   "id": "302eaba3",
   "metadata": {},
   "outputs": [
    {
     "name": "stdout",
     "output_type": "stream",
     "text": [
      "tensor([[[ 0.5306, -1.0873,  0.3781,  0.7720,  0.0051],\n",
      "         [-0.4473,  0.5501,  0.2220,  0.8677, -0.8221],\n",
      "         [ 3.1223,  0.2004, -0.8885, -0.4503,  0.5934],\n",
      "         [-0.5009,  0.2388, -0.4687, -0.4619, -0.8139],\n",
      "         [-0.7756, -3.1576,  0.2554,  0.0196,  1.0696]]])\n",
      "tensor([[[0.5306, 0.0000, 0.3781, 0.7720, 0.0051],\n",
      "         [0.0000, 0.5501, 0.2220, 0.8677, 0.0000],\n",
      "         [3.1223, 0.2004, 0.0000, 0.0000, 0.5934],\n",
      "         [0.0000, 0.2388, 0.0000, 0.0000, 0.0000],\n",
      "         [0.0000, 0.0000, 0.2554, 0.0196, 1.0696]]])\n"
     ]
    }
   ],
   "source": [
    "m = torch.nn.ReLU()\n",
    "input = torch.randn(1, 5,5)\n",
    "print(input)\n",
    "output = m(input)\n",
    "print(output)"
   ]
  },
  {
   "cell_type": "markdown",
   "id": "dc61ab67",
   "metadata": {},
   "source": [
    "## nn.Droupout(p)\n",
    "В тензоре с вероятностью $p$ зануляет ячейки"
   ]
  },
  {
   "cell_type": "code",
   "execution_count": null,
   "id": "d7c48f4a",
   "metadata": {},
   "outputs": [
    {
     "name": "stdout",
     "output_type": "stream",
     "text": [
      "tensor([[ 0.0947,  0.0577,  0.6171,  0.6495,  1.3487],\n",
      "        [ 0.7029, -0.5120, -0.1837,  0.3355, -0.1357],\n",
      "        [ 0.4206,  0.1237,  0.4283,  0.5280,  0.2379],\n",
      "        [-0.4296,  1.2909,  0.5506, -0.4133,  1.0075],\n",
      "        [ 0.6925,  0.5797, -0.3572,  0.1872,  0.2814]])\n",
      "tensor([[ 0.0000,  0.0000,  2.0569,  2.1650,  0.0000],\n",
      "        [ 0.0000, -0.0000, -0.6122,  1.1184, -0.0000],\n",
      "        [ 0.0000,  0.0000,  0.0000,  0.0000,  0.0000],\n",
      "        [-1.4321,  0.0000,  0.0000, -0.0000,  0.0000],\n",
      "        [ 0.0000,  1.9324, -0.0000,  0.0000,  0.9381]])\n"
     ]
    }
   ],
   "source": [
    "m = torch.nn.Dropout(p=0.7)\n",
    "input = torch.randn(5, 5)\n",
    "print(input)\n",
    "output = m(input)\n",
    "print(output)"
   ]
  },
  {
   "cell_type": "markdown",
   "id": "7c02ddc3",
   "metadata": {},
   "source": [
    "## nn.Linear() - Слой линейных нейронов\n",
    "$$\n",
    "N(X)=\\sum_{n}{w_{n}\\cdot x_n}\n",
    "$$"
   ]
  },
  {
   "cell_type": "code",
   "execution_count": 81,
   "id": "dd4aae53",
   "metadata": {},
   "outputs": [
    {
     "name": "stdout",
     "output_type": "stream",
     "text": [
      "tensor([[-0.0243, -0.3554,  0.8004, -0.2180,  0.0337],\n",
      "        [-2.8384,  0.7254,  0.0088,  0.0549, -0.1272],\n",
      "        [-1.0088, -0.7088, -0.8595,  2.6259,  1.1794],\n",
      "        [-1.6444,  0.2261,  0.1165,  0.7941,  0.2773]])\n",
      "Parameter containing:\n",
      "tensor([[-0.3035, -0.3829, -0.3719,  0.0549,  0.1667]], requires_grad=True)\n",
      "tensor([[-0.1743],\n",
      "        [ 0.5485],\n",
      "        [ 1.2241],\n",
      "        [ 0.4452]], grad_fn=<AddmmBackward0>)\n"
     ]
    }
   ],
   "source": [
    "m = torch.nn.Linear(5, 1)\n",
    "input = torch.randn(4, 5)\n",
    "print(input)\n",
    "print(m.weight)\n",
    "output = m(input)\n",
    "print(output)"
   ]
  },
  {
   "cell_type": "code",
   "execution_count": 78,
   "id": "ffc6f443",
   "metadata": {},
   "outputs": [
    {
     "data": {
      "text/plain": [
       "tensor(-1.0321, grad_fn=<SumBackward0>)"
      ]
     },
     "execution_count": 78,
     "metadata": {},
     "output_type": "execute_result"
    }
   ],
   "source": [
    "(input*m.weight).sum()"
   ]
  },
  {
   "cell_type": "markdown",
   "id": "2178961f",
   "metadata": {},
   "source": [
    "## torch.Tensor.view(shape) - Изменить форму тензора"
   ]
  },
  {
   "cell_type": "code",
   "execution_count": 89,
   "id": "59e6c7ca",
   "metadata": {},
   "outputs": [
    {
     "name": "stdout",
     "output_type": "stream",
     "text": [
      "tensor([[ 2, -5, -5,  4],\n",
      "        [-2, -3,  2, -4],\n",
      "        [-5,  4,  3,  0],\n",
      "        [-5, -5,  0,  3]])\n",
      "tensor([[ 2, -5, -5,  4, -2, -3,  2, -4],\n",
      "        [-5,  4,  3,  0, -5, -5,  0,  3]])\n",
      "tensor([[ 2, -5],\n",
      "        [-5,  4],\n",
      "        [-2, -3],\n",
      "        [ 2, -4],\n",
      "        [-5,  4],\n",
      "        [ 3,  0],\n",
      "        [-5, -5],\n",
      "        [ 0,  3]])\n"
     ]
    }
   ],
   "source": [
    "x = torch.randint(-5,5,(4,4))\n",
    "print(x)\n",
    "\n",
    "print(x.view(2,8))\n",
    "print(x.view(8,-1))"
   ]
  },
  {
   "cell_type": "markdown",
   "id": "95994451",
   "metadata": {},
   "source": [
    "## torch.backends.cudnn.deterministic = True - Настройка определенности вычисленных результатов\n",
    "\n",
    "При Истине, результат при одинаковых входах должен выдавать определенный один результат"
   ]
  },
  {
   "cell_type": "markdown",
   "id": "3ce4c22c",
   "metadata": {},
   "source": [
    "# Список доступных функций модели\n",
    "## Критерий оценки модели при обучении\n",
    "- `nn.L1Loss()` - $\\|x_n-y_n\\|$\n",
    "- `nn.MSELoss()` - $(x_n-y_n)^2$\n",
    "- `nn.CrossEntropyLoss()` - $\\frac{e^{x_{n,y_n}}}{\\sum_{c=1}^{C}{e^{x_{n,c}}}}$\n",
    "- `nn.BCELoss()` - "
   ]
  }
 ],
 "metadata": {
  "kernelspec": {
   "display_name": "Python 3",
   "language": "python",
   "name": "python3"
  },
  "language_info": {
   "codemirror_mode": {
    "name": "ipython",
    "version": 3
   },
   "file_extension": ".py",
   "mimetype": "text/x-python",
   "name": "python",
   "nbconvert_exporter": "python",
   "pygments_lexer": "ipython3",
   "version": "3.10.12"
  }
 },
 "nbformat": 4,
 "nbformat_minor": 5
}
